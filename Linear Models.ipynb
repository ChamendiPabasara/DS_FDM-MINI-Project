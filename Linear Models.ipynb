{
 "cells": [
  {
   "cell_type": "code",
   "execution_count": 1,
   "metadata": {},
   "outputs": [],
   "source": [
    "##Import the Dataset and Libraries\n",
    "\n",
    "import pandas as pd \n",
    "import numpy as np \n",
    "\n",
    "import pickle\n",
    "from sklearn import datasets\n",
    "from sklearn import model_selection\n",
    "from sklearn.neural_network import MLPClassifier\n",
    "from sklearn.neighbors import KNeighborsClassifier\n",
    "from sklearn.ensemble import RandomForestClassifier\n",
    "from sklearn.model_selection import train_test_split\n",
    "from sklearn.linear_model import LogisticRegression\n",
    "from sklearn.ensemble import RandomForestClassifier,VotingClassifier\n",
    "from sklearn.utils import shuffle\n",
    "from sklearn.tree import DecisionTreeRegressor\n",
    "from sklearn.ensemble import RandomForestRegressor\n",
    "from sklearn.metrics import mean_squared_error\n",
    "from sklearn.metrics import mean_absolute_error\n",
    "from sklearn.preprocessing import StandardScaler\n",
    "from sklearn import metrics \n",
    "from sklearn.neighbors import KNeighborsRegressor\n",
    "from sklearn.neural_network import MLPRegressor\n",
    "from sklearn.ensemble import VotingClassifier\n",
    "from sklearn.ensemble import BaggingClassifier\n",
    "from sklearn.linear_model import LinearRegression\n",
    "from sklearn.preprocessing import LabelEncoder, StandardScaler\n",
    "from sklearn.ensemble import AdaBoostClassifier, RandomForestClassifier, ExtraTreesClassifier\n",
    "from sklearn.metrics import accuracy_score, f1_score, log_loss\n",
    "from sklearn.model_selection import train_test_split, KFold, cross_val_score\n",
    "from math import sqrt\n"
   ]
  },
  {
   "cell_type": "code",
   "execution_count": 2,
   "metadata": {},
   "outputs": [],
   "source": [
    "Df_dataset = pd.read_csv(\"C:\\\\Users\\\\chame\\\\OneDrive\\\\Desktop\\\\FDM Mini\\\\Cleaned_Fundraising.csv\")"
   ]
  },
  {
   "cell_type": "code",
   "execution_count": 3,
   "metadata": {},
   "outputs": [
    {
     "data": {
      "text/html": [
       "<div>\n",
       "<style scoped>\n",
       "    .dataframe tbody tr th:only-of-type {\n",
       "        vertical-align: middle;\n",
       "    }\n",
       "\n",
       "    .dataframe tbody tr th {\n",
       "        vertical-align: top;\n",
       "    }\n",
       "\n",
       "    .dataframe thead th {\n",
       "        text-align: right;\n",
       "    }\n",
       "</style>\n",
       "<table border=\"1\" class=\"dataframe\">\n",
       "  <thead>\n",
       "    <tr style=\"text-align: right;\">\n",
       "      <th></th>\n",
       "      <th>Row Id</th>\n",
       "      <th>Row Id.</th>\n",
       "      <th>zipconvert_2</th>\n",
       "      <th>zipconvert_3</th>\n",
       "      <th>zipconvert_4</th>\n",
       "      <th>zipconvert_5</th>\n",
       "      <th>homeowner</th>\n",
       "      <th>NUMCHLD</th>\n",
       "      <th>INCOME</th>\n",
       "      <th>gender</th>\n",
       "      <th>...</th>\n",
       "      <th>NUMPROM</th>\n",
       "      <th>RAMNTALL</th>\n",
       "      <th>MAXRAMNT</th>\n",
       "      <th>LASTGIFT</th>\n",
       "      <th>totalmonths</th>\n",
       "      <th>TIMELAG</th>\n",
       "      <th>AVGGIFT</th>\n",
       "      <th>TARGET_B</th>\n",
       "      <th>TARGET_D</th>\n",
       "      <th>zip</th>\n",
       "    </tr>\n",
       "  </thead>\n",
       "  <tbody>\n",
       "    <tr>\n",
       "      <th>0</th>\n",
       "      <td>1</td>\n",
       "      <td>17</td>\n",
       "      <td>0</td>\n",
       "      <td>2</td>\n",
       "      <td>0</td>\n",
       "      <td>0</td>\n",
       "      <td>1</td>\n",
       "      <td>1.0</td>\n",
       "      <td>5.0</td>\n",
       "      <td>1</td>\n",
       "      <td>...</td>\n",
       "      <td>74.0</td>\n",
       "      <td>102.0</td>\n",
       "      <td>6.0</td>\n",
       "      <td>5.0</td>\n",
       "      <td>29.0</td>\n",
       "      <td>3.0</td>\n",
       "      <td>4.86</td>\n",
       "      <td>1.0</td>\n",
       "      <td>5.0</td>\n",
       "      <td>2</td>\n",
       "    </tr>\n",
       "    <tr>\n",
       "      <th>1</th>\n",
       "      <td>2</td>\n",
       "      <td>25</td>\n",
       "      <td>1</td>\n",
       "      <td>0</td>\n",
       "      <td>0</td>\n",
       "      <td>0</td>\n",
       "      <td>1</td>\n",
       "      <td>1.0</td>\n",
       "      <td>1.0</td>\n",
       "      <td>0</td>\n",
       "      <td>...</td>\n",
       "      <td>46.0</td>\n",
       "      <td>94.0</td>\n",
       "      <td>12.0</td>\n",
       "      <td>12.0</td>\n",
       "      <td>34.0</td>\n",
       "      <td>6.0</td>\n",
       "      <td>9.40</td>\n",
       "      <td>1.0</td>\n",
       "      <td>10.0</td>\n",
       "      <td>1</td>\n",
       "    </tr>\n",
       "    <tr>\n",
       "      <th>2</th>\n",
       "      <td>3</td>\n",
       "      <td>29</td>\n",
       "      <td>0</td>\n",
       "      <td>0</td>\n",
       "      <td>0</td>\n",
       "      <td>4</td>\n",
       "      <td>0</td>\n",
       "      <td>2.0</td>\n",
       "      <td>5.0</td>\n",
       "      <td>1</td>\n",
       "      <td>...</td>\n",
       "      <td>32.0</td>\n",
       "      <td>30.0</td>\n",
       "      <td>10.0</td>\n",
       "      <td>5.0</td>\n",
       "      <td>29.0</td>\n",
       "      <td>7.0</td>\n",
       "      <td>4.29</td>\n",
       "      <td>1.0</td>\n",
       "      <td>5.0</td>\n",
       "      <td>4</td>\n",
       "    </tr>\n",
       "    <tr>\n",
       "      <th>3</th>\n",
       "      <td>4</td>\n",
       "      <td>38</td>\n",
       "      <td>0</td>\n",
       "      <td>0</td>\n",
       "      <td>0</td>\n",
       "      <td>4</td>\n",
       "      <td>1</td>\n",
       "      <td>1.0</td>\n",
       "      <td>3.0</td>\n",
       "      <td>0</td>\n",
       "      <td>...</td>\n",
       "      <td>94.0</td>\n",
       "      <td>177.0</td>\n",
       "      <td>10.0</td>\n",
       "      <td>8.0</td>\n",
       "      <td>30.0</td>\n",
       "      <td>3.0</td>\n",
       "      <td>7.08</td>\n",
       "      <td>0.0</td>\n",
       "      <td>0.0</td>\n",
       "      <td>4</td>\n",
       "    </tr>\n",
       "    <tr>\n",
       "      <th>4</th>\n",
       "      <td>5</td>\n",
       "      <td>40</td>\n",
       "      <td>0</td>\n",
       "      <td>2</td>\n",
       "      <td>0</td>\n",
       "      <td>0</td>\n",
       "      <td>1</td>\n",
       "      <td>1.0</td>\n",
       "      <td>4.0</td>\n",
       "      <td>0</td>\n",
       "      <td>...</td>\n",
       "      <td>20.0</td>\n",
       "      <td>23.0</td>\n",
       "      <td>11.0</td>\n",
       "      <td>11.0</td>\n",
       "      <td>30.0</td>\n",
       "      <td>6.0</td>\n",
       "      <td>7.67</td>\n",
       "      <td>0.0</td>\n",
       "      <td>0.0</td>\n",
       "      <td>2</td>\n",
       "    </tr>\n",
       "    <tr>\n",
       "      <th>5</th>\n",
       "      <td>6</td>\n",
       "      <td>53</td>\n",
       "      <td>0</td>\n",
       "      <td>2</td>\n",
       "      <td>0</td>\n",
       "      <td>0</td>\n",
       "      <td>1</td>\n",
       "      <td>1.0</td>\n",
       "      <td>4.0</td>\n",
       "      <td>1</td>\n",
       "      <td>...</td>\n",
       "      <td>38.0</td>\n",
       "      <td>73.0</td>\n",
       "      <td>10.0</td>\n",
       "      <td>10.0</td>\n",
       "      <td>31.0</td>\n",
       "      <td>3.0</td>\n",
       "      <td>7.30</td>\n",
       "      <td>1.0</td>\n",
       "      <td>8.0</td>\n",
       "      <td>2</td>\n",
       "    </tr>\n",
       "    <tr>\n",
       "      <th>6</th>\n",
       "      <td>7</td>\n",
       "      <td>58</td>\n",
       "      <td>0</td>\n",
       "      <td>0</td>\n",
       "      <td>0</td>\n",
       "      <td>4</td>\n",
       "      <td>1</td>\n",
       "      <td>1.0</td>\n",
       "      <td>4.0</td>\n",
       "      <td>1</td>\n",
       "      <td>...</td>\n",
       "      <td>47.0</td>\n",
       "      <td>139.0</td>\n",
       "      <td>20.0</td>\n",
       "      <td>20.0</td>\n",
       "      <td>37.0</td>\n",
       "      <td>3.0</td>\n",
       "      <td>10.69</td>\n",
       "      <td>1.0</td>\n",
       "      <td>10.0</td>\n",
       "      <td>4</td>\n",
       "    </tr>\n",
       "    <tr>\n",
       "      <th>7</th>\n",
       "      <td>8</td>\n",
       "      <td>61</td>\n",
       "      <td>1</td>\n",
       "      <td>0</td>\n",
       "      <td>0</td>\n",
       "      <td>0</td>\n",
       "      <td>1</td>\n",
       "      <td>1.0</td>\n",
       "      <td>1.0</td>\n",
       "      <td>0</td>\n",
       "      <td>...</td>\n",
       "      <td>77.0</td>\n",
       "      <td>249.0</td>\n",
       "      <td>15.0</td>\n",
       "      <td>7.0</td>\n",
       "      <td>35.0</td>\n",
       "      <td>3.0</td>\n",
       "      <td>9.58</td>\n",
       "      <td>1.0</td>\n",
       "      <td>20.0</td>\n",
       "      <td>1</td>\n",
       "    </tr>\n",
       "    <tr>\n",
       "      <th>8</th>\n",
       "      <td>10</td>\n",
       "      <td>87</td>\n",
       "      <td>1</td>\n",
       "      <td>0</td>\n",
       "      <td>0</td>\n",
       "      <td>0</td>\n",
       "      <td>1</td>\n",
       "      <td>1.0</td>\n",
       "      <td>4.0</td>\n",
       "      <td>1</td>\n",
       "      <td>...</td>\n",
       "      <td>21.0</td>\n",
       "      <td>26.0</td>\n",
       "      <td>16.0</td>\n",
       "      <td>16.0</td>\n",
       "      <td>30.0</td>\n",
       "      <td>6.0</td>\n",
       "      <td>13.00</td>\n",
       "      <td>0.0</td>\n",
       "      <td>0.0</td>\n",
       "      <td>1</td>\n",
       "    </tr>\n",
       "    <tr>\n",
       "      <th>9</th>\n",
       "      <td>11</td>\n",
       "      <td>100</td>\n",
       "      <td>0</td>\n",
       "      <td>0</td>\n",
       "      <td>0</td>\n",
       "      <td>4</td>\n",
       "      <td>1</td>\n",
       "      <td>1.0</td>\n",
       "      <td>4.0</td>\n",
       "      <td>1</td>\n",
       "      <td>...</td>\n",
       "      <td>66.0</td>\n",
       "      <td>108.0</td>\n",
       "      <td>12.0</td>\n",
       "      <td>7.0</td>\n",
       "      <td>31.0</td>\n",
       "      <td>1.0</td>\n",
       "      <td>6.00</td>\n",
       "      <td>1.0</td>\n",
       "      <td>7.0</td>\n",
       "      <td>4</td>\n",
       "    </tr>\n",
       "  </tbody>\n",
       "</table>\n",
       "<p>10 rows × 25 columns</p>\n",
       "</div>"
      ],
      "text/plain": [
       "   Row Id  Row Id.  zipconvert_2  zipconvert_3  zipconvert_4  zipconvert_5  \\\n",
       "0       1       17             0             2             0             0   \n",
       "1       2       25             1             0             0             0   \n",
       "2       3       29             0             0             0             4   \n",
       "3       4       38             0             0             0             4   \n",
       "4       5       40             0             2             0             0   \n",
       "5       6       53             0             2             0             0   \n",
       "6       7       58             0             0             0             4   \n",
       "7       8       61             1             0             0             0   \n",
       "8      10       87             1             0             0             0   \n",
       "9      11      100             0             0             0             4   \n",
       "\n",
       "   homeowner  NUMCHLD  INCOME  gender  ...  NUMPROM  RAMNTALL  MAXRAMNT  \\\n",
       "0          1      1.0     5.0       1  ...     74.0     102.0       6.0   \n",
       "1          1      1.0     1.0       0  ...     46.0      94.0      12.0   \n",
       "2          0      2.0     5.0       1  ...     32.0      30.0      10.0   \n",
       "3          1      1.0     3.0       0  ...     94.0     177.0      10.0   \n",
       "4          1      1.0     4.0       0  ...     20.0      23.0      11.0   \n",
       "5          1      1.0     4.0       1  ...     38.0      73.0      10.0   \n",
       "6          1      1.0     4.0       1  ...     47.0     139.0      20.0   \n",
       "7          1      1.0     1.0       0  ...     77.0     249.0      15.0   \n",
       "8          1      1.0     4.0       1  ...     21.0      26.0      16.0   \n",
       "9          1      1.0     4.0       1  ...     66.0     108.0      12.0   \n",
       "\n",
       "   LASTGIFT  totalmonths  TIMELAG  AVGGIFT  TARGET_B  TARGET_D  zip  \n",
       "0       5.0         29.0      3.0     4.86       1.0       5.0    2  \n",
       "1      12.0         34.0      6.0     9.40       1.0      10.0    1  \n",
       "2       5.0         29.0      7.0     4.29       1.0       5.0    4  \n",
       "3       8.0         30.0      3.0     7.08       0.0       0.0    4  \n",
       "4      11.0         30.0      6.0     7.67       0.0       0.0    2  \n",
       "5      10.0         31.0      3.0     7.30       1.0       8.0    2  \n",
       "6      20.0         37.0      3.0    10.69       1.0      10.0    4  \n",
       "7       7.0         35.0      3.0     9.58       1.0      20.0    1  \n",
       "8      16.0         30.0      6.0    13.00       0.0       0.0    1  \n",
       "9       7.0         31.0      1.0     6.00       1.0       7.0    4  \n",
       "\n",
       "[10 rows x 25 columns]"
      ]
     },
     "execution_count": 3,
     "metadata": {},
     "output_type": "execute_result"
    }
   ],
   "source": [
    "Df_dataset.head(10)"
   ]
  },
  {
   "cell_type": "markdown",
   "metadata": {},
   "source": [
    "# Train and Test Split"
   ]
  },
  {
   "cell_type": "code",
   "execution_count": 4,
   "metadata": {},
   "outputs": [],
   "source": [
    "X = Df_dataset.drop(['zipconvert_2','zipconvert_3','zipconvert_4','zipconvert_5','Row Id','Row Id.','TARGET_D'],axis=1)\n",
    "y= Df_dataset['TARGET_D']\n",
    "\n",
    "X_train, X_test, y_train, y_test = train_test_split(X, y, test_size=0.25,random_state=5)"
   ]
  },
  {
   "cell_type": "code",
   "execution_count": 5,
   "metadata": {},
   "outputs": [
    {
     "name": "stdout",
     "output_type": "stream",
     "text": [
      "(2318, 18)\n",
      "(773, 18)\n"
     ]
    }
   ],
   "source": [
    "print(X_train.shape)\n",
    "print(X_test.shape)"
   ]
  },
  {
   "cell_type": "markdown",
   "metadata": {},
   "source": [
    "# Scaling the features"
   ]
  },
  {
   "cell_type": "code",
   "execution_count": 6,
   "metadata": {},
   "outputs": [],
   "source": [
    "from sklearn.preprocessing import MinMaxScaler\n",
    "scaler = MinMaxScaler(feature_range=(0, 1))\n",
    "\n",
    "X_train_scaled = scaler.fit_transform(X_train)\n",
    "X_train = pd.DataFrame(X_train_scaled)\n",
    "\n",
    "X_test_scaled = scaler.fit_transform(X_test)\n",
    "X_test = pd.DataFrame(X_test_scaled)"
   ]
  },
  {
   "cell_type": "markdown",
   "metadata": {},
   "source": [
    "# Standardization"
   ]
  },
  {
   "cell_type": "code",
   "execution_count": 7,
   "metadata": {},
   "outputs": [],
   "source": [
    "from sklearn.preprocessing import StandardScaler\n",
    "# the scaler object (model)\n",
    "scaler = StandardScaler()\n",
    "# fit and transform the data\n",
    "train_scaled = scaler.fit_transform(X_train) \n",
    "test_scaled = scaler.transform(X_test) "
   ]
  },
  {
   "cell_type": "markdown",
   "metadata": {},
   "source": [
    "# Regression Models"
   ]
  },
  {
   "cell_type": "markdown",
   "metadata": {},
   "source": [
    "# 1 - Linear Regression Model"
   ]
  },
  {
   "cell_type": "code",
   "execution_count": 8,
   "metadata": {},
   "outputs": [
    {
     "name": "stdout",
     "output_type": "stream",
     "text": [
      "train mse =  41.73500758579475  train mae =  3.812529325088751  & train rmse =  6.46026373964676\n",
      "train R-Squared: 0.5878467218312882\n",
      "\n",
      "test mse =  109.18142159639206  & test mae =  5.792938335410735  & (test mser =  10.448991415270282\n",
      "test R-Squared: 0.2613957918254044\n"
     ]
    }
   ],
   "source": [
    "from sklearn.linear_model import LinearRegression\n",
    "model = LinearRegression()\n",
    "model.fit(train_scaled,y_train)\n",
    "\n",
    "mse = mean_squared_error(y_train, model.predict(train_scaled))\n",
    "mae = mean_absolute_error(y_train, model.predict(train_scaled))\n",
    "r2 = metrics.r2_score(y_train, model.predict(train_scaled))\n",
    "\n",
    "print(\"train mse = \",mse,\" train mae = \",mae,\" & train rmse = \", sqrt(mse))\n",
    "print(\"train R-Squared:\", r2)\n",
    "print('')\n",
    "\n",
    "test_mse = mean_squared_error(y_test, model.predict(test_scaled))\n",
    "test_mae = mean_absolute_error(y_test, model.predict(test_scaled))\n",
    "test_r2 = metrics.r2_score(y_test, model.predict(test_scaled))\n",
    "\n",
    "print(\"test mse = \",test_mse,\" & test mae = \",test_mae,\" & (test mser = \", sqrt(test_mse))\n",
    "print(\"test R-Squared:\", test_r2)\n"
   ]
  },
  {
   "cell_type": "code",
   "execution_count": 9,
   "metadata": {},
   "outputs": [],
   "source": [
    "# Saving model to disk\n",
    "pickle.dump(model, open('Linear_Regression_Model.pkl','wb'))\n",
    "\n",
    "# Loading model to compare the results\n",
    "lmodel = pickle.load(open('Linear_Regression_Model.pkl','rb'))"
   ]
  },
  {
   "cell_type": "markdown",
   "metadata": {},
   "source": [
    "# 2 - K Nearest Neighbors"
   ]
  },
  {
   "cell_type": "code",
   "execution_count": 10,
   "metadata": {},
   "outputs": [],
   "source": [
    "#import required packages\n",
    "from sklearn import neighbors\n",
    "from sklearn.metrics import mean_squared_error \n",
    "from math import sqrt\n",
    "import matplotlib.pyplot as plt\n",
    "%matplotlib inline"
   ]
  },
  {
   "cell_type": "code",
   "execution_count": 11,
   "metadata": {},
   "outputs": [
    {
     "data": {
      "text/plain": [
       "KNeighborsRegressor(algorithm='auto', leaf_size=30, metric='minkowski',\n",
       "                    metric_params=None, n_jobs=None, n_neighbors=5, p=2,\n",
       "                    weights='uniform')"
      ]
     },
     "execution_count": 11,
     "metadata": {},
     "output_type": "execute_result"
    }
   ],
   "source": [
    "model = KNeighborsRegressor()\n",
    "model.fit(train_scaled,y_train)"
   ]
  },
  {
   "cell_type": "code",
   "execution_count": 12,
   "metadata": {},
   "outputs": [
    {
     "name": "stdout",
     "output_type": "stream",
     "text": [
      "train mse =  32.815172562553926  & train mae =  2.3828731665228644  & train rmse =  5.728452894329666\n",
      "train R-Squared: 0.6759343839215689\n",
      "-----------------------------------------------------------------------------\n",
      "test mse =  166.99451798188875  & test mae =  6.562380336351876  & test rmse =  12.922635875930604\n",
      "test R-Squared: -0.12970551143279052\n"
     ]
    }
   ],
   "source": [
    "mse = mean_squared_error(y_train, model.predict(train_scaled))\n",
    "mae = mean_absolute_error(y_train, model.predict(train_scaled))\n",
    "r2 = metrics.r2_score(y_train, model.predict(train_scaled))\n",
    "\n",
    "#train data.\n",
    "print(\"train mse = \",mse,\" & train mae = \",mae,\" & train rmse = \", sqrt(mse))\n",
    "print(\"train R-Squared:\", r2)\n",
    "\n",
    "print('-----------------------------------------------------------------------------')\n",
    "#test data\n",
    "test_mse = mean_squared_error(y_test, model.predict(test_scaled))\n",
    "test_mae = mean_absolute_error(y_test, model.predict(test_scaled))\n",
    "test_r2 = metrics.r2_score(y_test, model.predict(test_scaled))\n",
    "\n",
    "print(\"test mse = \",test_mse,\" & test mae = \",test_mae,\" & test rmse = \", sqrt(test_mse))\n",
    "print(\"test R-Squared:\", test_r2)"
   ]
  },
  {
   "cell_type": "markdown",
   "metadata": {},
   "source": [
    "# 3 - Decision Trees & Random Forests"
   ]
  },
  {
   "cell_type": "code",
   "execution_count": 13,
   "metadata": {},
   "outputs": [],
   "source": [
    "import numpy as np\n",
    "import pandas as pd\n",
    "import seaborn as sns\n",
    "from sklearn.model_selection import train_test_split\n",
    "from sklearn.tree import DecisionTreeRegressor\n",
    "from sklearn import metrics \n",
    "from sklearn.tree import DecisionTreeClassifier\n",
    "#Import Random Forest Model\n",
    "from sklearn.ensemble import RandomForestRegressor\n"
   ]
  },
  {
   "cell_type": "code",
   "execution_count": 14,
   "metadata": {},
   "outputs": [],
   "source": [
    "model_tree = DecisionTreeRegressor()\n",
    "model_RF = RandomForestRegressor()"
   ]
  },
  {
   "cell_type": "markdown",
   "metadata": {},
   "source": [
    "# Standardization"
   ]
  },
  {
   "cell_type": "code",
   "execution_count": 15,
   "metadata": {},
   "outputs": [],
   "source": [
    "from sklearn.preprocessing import StandardScaler\n",
    "# the scaler object (model)\n",
    "scaler = StandardScaler()\n",
    "# fit and transform the data\n",
    "train_scaled = scaler.fit_transform(X_train) \n",
    "test_scaled = scaler.transform(X_test) "
   ]
  },
  {
   "cell_type": "code",
   "execution_count": 16,
   "metadata": {},
   "outputs": [
    {
     "data": {
      "text/plain": [
       "RandomForestRegressor(bootstrap=True, ccp_alpha=0.0, criterion='mse',\n",
       "                      max_depth=None, max_features='auto', max_leaf_nodes=None,\n",
       "                      max_samples=None, min_impurity_decrease=0.0,\n",
       "                      min_impurity_split=None, min_samples_leaf=1,\n",
       "                      min_samples_split=2, min_weight_fraction_leaf=0.0,\n",
       "                      n_estimators=100, n_jobs=None, oob_score=False,\n",
       "                      random_state=None, verbose=0, warm_start=False)"
      ]
     },
     "execution_count": 16,
     "metadata": {},
     "output_type": "execute_result"
    }
   ],
   "source": [
    "model_tree.fit(train_scaled,y_train)\n",
    "model_RF.fit(train_scaled,y_train)"
   ]
  },
  {
   "cell_type": "code",
   "execution_count": 17,
   "metadata": {},
   "outputs": [],
   "source": [
    "from sklearn.metrics import mean_squared_error\n",
    "from sklearn.metrics import mean_absolute_error"
   ]
  },
  {
   "cell_type": "code",
   "execution_count": 18,
   "metadata": {},
   "outputs": [
    {
     "name": "stdout",
     "output_type": "stream",
     "text": [
      "Decision Trees training mse =  0.0  & Decision Trees training mae =  0.0  & Decision Trees training rmse =  0.0\n",
      " Random Forests training mse =  3.580977210957722  &  Random Forests training mae =  0.7066932700603968  &  Random Forests training rmse =  1.8923470112423149\n",
      "\n",
      " Decision Trees training R-Squared =  1.0\n",
      " Random Forests training R-Squared =  0.9646361272725388\n",
      "\n",
      "Decision Trees testing mse =  169.15933557567917  & Decision Trees testing mae=  5.361034928848642  & Decision Trees testing rmse =  13.00612684759299\n",
      " Random Forests testing mse =  137.8822808538163  &  Random Forests testing mae =  5.70327296248383  &  Random Forests testing rmse =  11.742328595888308\n",
      "\n",
      " Decision Trees testing R-Squared =  -0.14435034167336735\n",
      " Random Forests testing R-Squared =  0.06723661056721797\n"
     ]
    }
   ],
   "source": [
    "mse_tree = mean_squared_error(y_train, model_tree.predict(train_scaled))\n",
    "mae_tree = mean_absolute_error(y_train, model_tree.predict(train_scaled))\n",
    "r2_tree = metrics.r2_score(y_train,model_tree.predict(train_scaled))\n",
    "\n",
    "mse_RF = mean_squared_error(y_train, model_RF.predict(train_scaled))\n",
    "mae_RF = mean_absolute_error(y_train, model_RF.predict(train_scaled))\n",
    "r2_RF = metrics.r2_score(y_train,model_RF.predict(train_scaled))\n",
    "\n",
    "\n",
    "\n",
    "#train data.\n",
    "\n",
    "print(\"Decision Trees training mse = \",mse_tree,\" & Decision Trees training mae = \",mae_tree,\" & Decision Trees training rmse = \", sqrt(mse_tree))\n",
    "#print(\"R-Squared:\", r2)\n",
    "print(\" Random Forests training mse = \",mse_RF,\" &  Random Forests training mae = \",mae_RF,\" &  Random Forests training rmse = \", sqrt(mse_RF))\n",
    "print('')\n",
    "print(\" Decision Trees training R-Squared = \",r2_tree)\n",
    "print(\" Random Forests training R-Squared = \",r2_RF)\n",
    "print('')\n",
    "\n",
    "#test data\n",
    "\n",
    "test_mse_tree = mean_squared_error(y_test, model_tree.predict(test_scaled))\n",
    "test_mae_tree = mean_absolute_error(y_test, model_tree.predict(test_scaled))\n",
    "test_r2_tree = metrics.r2_score(y_test, model_tree.predict(test_scaled))\n",
    "\n",
    "test_mse_RF = mean_squared_error(y_test, model_RF.predict(test_scaled))\n",
    "test_mae_RF = mean_absolute_error(y_test, model_RF.predict(test_scaled))\n",
    "test_r2_RF = metrics.r2_score(y_test, model_RF.predict(test_scaled))\n",
    "\n",
    "print(\"Decision Trees testing mse = \",test_mse_tree,\" & Decision Trees testing mae= \",test_mae_tree,\" & Decision Trees testing rmse = \", sqrt(test_mse_tree))\n",
    "print(\" Random Forests testing mse = \",test_mse_RF,\" &  Random Forests testing mae = \",test_mae_RF,\" &  Random Forests testing rmse = \", sqrt(test_mse_RF))\n",
    "print('')\n",
    "print(\" Decision Trees testing R-Squared = \",test_r2_tree)\n",
    "print(\" Random Forests testing R-Squared = \",test_r2_RF)\n"
   ]
  }
 ],
 "metadata": {
  "kernelspec": {
   "display_name": "Python 3",
   "language": "python",
   "name": "python3"
  },
  "language_info": {
   "codemirror_mode": {
    "name": "ipython",
    "version": 3
   },
   "file_extension": ".py",
   "mimetype": "text/x-python",
   "name": "python",
   "nbconvert_exporter": "python",
   "pygments_lexer": "ipython3",
   "version": "3.7.6"
  }
 },
 "nbformat": 4,
 "nbformat_minor": 4
}
